{
 "cells": [
  {
   "cell_type": "code",
   "execution_count": 1,
   "id": "d98660b8",
   "metadata": {},
   "outputs": [
    {
     "data": {
      "text/plain": [
       "True"
      ]
     },
     "execution_count": 1,
     "metadata": {},
     "output_type": "execute_result"
    }
   ],
   "source": [
    "from azure.storage.blob import BlobServiceClient\n",
    "import json, os, re\n",
    "from azure.core.exceptions import ResourceExistsError\n",
    "from dotenv import load_dotenv\n",
    "import os\n",
    "from getpass import getpass\n",
    "import pandas as pd\n",
    "from datetime import datetime, timedelta  \n",
    "import random\n",
    "import torch\n",
    "import pytz\n",
    "load_dotenv()\n"
   ]
  },
  {
   "cell_type": "code",
   "execution_count": 2,
   "id": "92736c5f",
   "metadata": {},
   "outputs": [
    {
     "name": "stdout",
     "output_type": "stream",
     "text": [
      "CUDA: True\n",
      "GPU: NVIDIA GeForce RTX 4070 SUPER\n"
     ]
    }
   ],
   "source": [
    "print(\"CUDA:\", torch.cuda.is_available())\n",
    "if torch.cuda.is_available():\n",
    "    print(\"GPU:\", torch.cuda.get_device_name(0))\n"
   ]
  },
  {
   "cell_type": "code",
   "execution_count": 3,
   "id": "b44ad286",
   "metadata": {},
   "outputs": [],
   "source": [
    "def rand_time():\n",
    "    tz = pytz.timezone(\"America/Chicago\")\n",
    "    current = datetime.now(tz)\n",
    "    days_back = random.randint(0, 365)\n",
    "    seconds_back = random.randint(0, 24*3600)\n",
    "    random_time = current - timedelta(days=days_back, seconds=seconds_back)\n",
    "    return random_time.strftime(\"%Y-%m-%dT%H:%M:%S%z\")[:-2] + \":\" + random_time.strftime(\"%z\")[-2:]\n",
    "\n",
    "def rand_status():\n",
    "    threshold = random.randint(0, 100)\n",
    "    if threshold < 20:\n",
    "        return True\n",
    "    return False\n"
   ]
  },
  {
   "cell_type": "code",
   "execution_count": 4,
   "id": "69210f1e",
   "metadata": {},
   "outputs": [
    {
     "name": "stdout",
     "output_type": "stream",
     "text": [
      "2024-11-11T04:34:20-05:00\n"
     ]
    }
   ],
   "source": [
    "print(rand_time())"
   ]
  },
  {
   "cell_type": "code",
   "execution_count": 5,
   "id": "eefba240",
   "metadata": {},
   "outputs": [
    {
     "name": "stdout",
     "output_type": "stream",
     "text": [
      "                        time  \\\n",
      "0  2025-02-23T12:43:36-05:00   \n",
      "1  2025-08-15T06:32:50-05:00   \n",
      "2  2025-01-28T04:10:28-05:00   \n",
      "3  2025-04-28T10:27:28-05:00   \n",
      "\n",
      "                                            question  prompted  flagged  \n",
      "0  What is the step by step guide to invest in sh...     False    False  \n",
      "1  What is the story of Kohinoor (Koh-i-Noor) Dia...     False    False  \n",
      "2  How can I increase the speed of my internet co...     False     True  \n",
      "3  Why am I mentally very lonely? How can I solve...      True    False  \n"
     ]
    }
   ],
   "source": [
    "df = pd.read_csv(\"quora_duplicate_questions.tsv\", sep=\"\\t\")\n",
    "df[\"time\"] = [rand_time() for _ in range(len(df))]\n",
    "df[\"flagged\"] = [rand_status() for _ in range(len(df))]\n",
    "df[\"prompted\"] = [\n",
    "    rand_status() if not flagged else False\n",
    "    for flagged in df[\"flagged\"]]\n",
    "\n",
    "new_df = df[[\"time\", \"question1\", \"prompted\", \"flagged\"]]\n",
    "new_df = new_df.rename(columns={\"question1\": \"question\"})\n",
    "\n",
    "print(new_df[:4])\n",
    "\n",
    "new_df.to_json(\"quora_test\", orient=\"records\", lines=True)\n"
   ]
  }
 ],
 "metadata": {
  "kernelspec": {
   "display_name": "venv",
   "language": "python",
   "name": "python3"
  },
  "language_info": {
   "codemirror_mode": {
    "name": "ipython",
    "version": 3
   },
   "file_extension": ".py",
   "mimetype": "text/x-python",
   "name": "python",
   "nbconvert_exporter": "python",
   "pygments_lexer": "ipython3",
   "version": "3.11.9"
  }
 },
 "nbformat": 4,
 "nbformat_minor": 5
}
